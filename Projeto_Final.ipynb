{
  "nbformat": 4,
  "nbformat_minor": 0,
  "metadata": {
    "colab": {
      "provenance": [],
      "authorship_tag": "ABX9TyNDO2RITHUJTTbMaN7rCi0K",
      "include_colab_link": true
    },
    "kernelspec": {
      "name": "python3",
      "display_name": "Python 3"
    },
    "language_info": {
      "name": "python"
    }
  },
  "cells": [
    {
      "cell_type": "markdown",
      "metadata": {
        "id": "view-in-github",
        "colab_type": "text"
      },
      "source": [
        "<a href=\"https://colab.research.google.com/github/LKSFDS/Projeto_IA/blob/master/Projeto_Final.ipynb\" target=\"_parent\"><img src=\"https://colab.research.google.com/assets/colab-badge.svg\" alt=\"Open In Colab\"/></a>"
      ]
    },
    {
      "cell_type": "markdown",
      "source": [
        "Este é um trabalho de reprodução de resultados de geração de grafos que contenham N vértices, com a maior quantidade possível de arestas, mas que não gere triângulos. Esse jogo tem como base o artigo 'Constructions in combinatorics via neural networks' de Adam Zsolt Wagner.\n",
        "\n",
        "Esse artigo pode ser encontrado em: https://doi.org/10.48550/arXiv.2104.14516\n",
        "\n",
        "O código utilizado pode ser encontrado no seguinte repositório:  https://github.com/dpaleka/cross-entropy-for-combinatorics.\n",
        "\n",
        "Mais sobre o Deep Cross Entropy Method no seguinte repositório: https://github.com/yandexdataschool/Practical_RL/blob/master/week01_intro/deep_crossentropy_method.ipynb\n"
      ],
      "metadata": {
        "id": "keyojA4-5bDt"
      }
    },
    {
      "cell_type": "code",
      "source": [
        "import networkx as nx\n",
        "import random\n",
        "import numpy as np\n",
        "from statistics import mean\n",
        "import pickle\n",
        "import time\n",
        "import math\n",
        "import matplotlib.pyplot as plt\n",
        "import torch\n",
        "from torch import nn\n",
        "import itertools\n",
        "from numba import njit"
      ],
      "metadata": {
        "id": "ob5RQQrS57Ld"
      },
      "execution_count": 1,
      "outputs": []
    },
    {
      "cell_type": "markdown",
      "source": [
        "Primeiramente é preciso escolher os parâmetros que serão utilizados no algoritmo de Aprendizado por Reforço. É preciso levar em conta o valor da taxa de aprendizado. Uma taxa de aprendizado com um valor maior, pode encontrar problemas para localizar a solução otimizada."
      ],
      "metadata": {
        "id": "163AcI_J6LPo"
      }
    },
    {
      "cell_type": "code",
      "source": [
        "N = 10   #Aqui definimos o numero vértices de um grafo\n",
        "MYN = int(N*(N-1)/2) #Aqui definimos o grafo. Ele será o nosso ambiente.\n",
        "\n",
        "LEARNING_RATE = 0.0003 #A taxa de aprendizagem, quando aumentada, converge de maneira mais rápida. Caso a aprendizagem fique presa em máximos locais, talvez seja melhor diminuir o valor.\n",
        "n_sessions = 5000 #Número de sessão por cada iteração. Uma sessão corresponde a geração de uma String que representa um grafo.\n",
        "percentile = 93 #top 100-X percentual do qual a IA aprende.\n",
        "super_percentile = 94 #top 100-X percentual que sobrevive para ser utilizado na próxima iteração.\n",
        "\n",
        "FIRST_LAYER_NEURONS = 32 #Numeros de neurônios contidas nas camadas escondidas.\n",
        "SECOND_LAYER_NEURONS = 12\n",
        "THIRD_LAYER_NEURONS = 4\n",
        "\n",
        "n_actions = 2 #Esse é o tamanho do alfabeto.\n",
        "\n",
        "observation_space = 2*MYN #Espaço total de observação\n",
        "\n",
        "len_game = MYN #Número de passos de cada jogo.\n",
        "state_dim = (observation_space,)"
      ],
      "metadata": {
        "id": "pZuhKkEXbTu5"
      },
      "execution_count": 2,
      "outputs": []
    },
    {
      "cell_type": "markdown",
      "source": [
        "Função que irá criar uma Rede Neural Convolucional. Ela terá 3 camadas e será totalmente conectada. Mais sobre CNN no seguinte artigo: https://arxiv.org/pdf/1608.06993.pdf\n",
        "\n",
        "Modelos pré-treinados podem ser encontrados em: https://github.com/liuzhuang13/DenseNet"
      ],
      "metadata": {
        "id": "JPyPlWNBdZLx"
      }
    },
    {
      "cell_type": "code",
      "source": [
        "class DenseNet(nn.Module):\n",
        "    def __init__(self, widths):\n",
        "        super().__init__()\n",
        "\n",
        "        num_layers = len(widths)\n",
        "        layers = [[nn.Linear(widths[i], widths[i+1]), nn.ReLU()] for i in range(num_layers-2)]\n",
        "        self.layers = [nn.Flatten(1, -1),\n",
        "                      *list(itertools.chain(*layers)),\n",
        "                      nn.Linear(widths[-2], widths[-1]),\n",
        "                      nn.Sigmoid()]\n",
        "\n",
        "        print(self.layers)\n",
        "        self.net = nn.Sequential(*self.layers)\n",
        "\n",
        "    def forward(self, x):\n",
        "        prob = self.net(x)\n",
        "        return prob\n",
        "\n",
        "model = DenseNet([2*MYN, FIRST_LAYER_NEURONS, SECOND_LAYER_NEURONS, THIRD_LAYER_NEURONS, 1])\n",
        "\n",
        "optimizer = torch.optim.Adam(model.parameters(), lr=LEARNING_RATE)"
      ],
      "metadata": {
        "id": "yTuNv0MLdifG",
        "colab": {
          "base_uri": "https://localhost:8080/"
        },
        "outputId": "2029ccce-0012-433c-b6a8-8a46e884b6b8"
      },
      "execution_count": 3,
      "outputs": [
        {
          "output_type": "stream",
          "name": "stdout",
          "text": [
            "[Flatten(start_dim=1, end_dim=-1), Linear(in_features=90, out_features=32, bias=True), ReLU(), Linear(in_features=32, out_features=12, bias=True), ReLU(), Linear(in_features=12, out_features=4, bias=True), ReLU(), Linear(in_features=4, out_features=1, bias=True), Sigmoid()]\n"
          ]
        }
      ]
    },
    {
      "cell_type": "markdown",
      "source": [
        "Função que constrói o ambiente utilizando a CNN préviamente gerada e define a função que receberá a String de tamanho N*(N-1)/2 como entrada e devolverá, como saída, as seguintes formulações matriciais de grafos: matriz de adjacências, lista de vertices vizinhos, lista de grau dos vértices. Os estados gerados, serão utilizados pela função Score."
      ],
      "metadata": {
        "id": "SypCFEwAh_8_"
      }
    },
    {
      "cell_type": "code",
      "source": [
        "@njit\n",
        "def state_to_graph(state):\n",
        "\n",
        "    adjMatG = np.zeros((N,N),dtype=np.int8) #Matriz adjacência\n",
        "    edgeListG = np.zeros((N,N),dtype=np.int8) #Lista de Vizinhos\n",
        "    Gdeg = np.zeros(N,dtype=np.int8) #Sequência de grau\n",
        "    count = 0\n",
        "    for i in range(N):\n",
        "        for j in range(i+1,N):\n",
        "            if state[count] == 1:\n",
        "                adjMatG[i][j] = 1\n",
        "                adjMatG[j][i] = 1\n",
        "                edgeListG[i][Gdeg[i]] = j\n",
        "                edgeListG[j][Gdeg[j]] = i\n",
        "                Gdeg[i] += 1\n",
        "                Gdeg[j] += 1\n",
        "            count += 1\n",
        "\n",
        "    return adjMatG, edgeListG, Gdeg\n",
        "\n",
        "@njit\n",
        "def score_state(state):\n",
        "    return score_graph(*state_to_graph(state))"
      ],
      "metadata": {
        "id": "5XPSgcClilG8"
      },
      "execution_count": 4,
      "outputs": []
    },
    {
      "cell_type": "markdown",
      "source": [
        "Função que ativa o modelo interativo. Essa parte de código transforma o array em uma matriz, o que permitirá que o melhor grafo de cada iteração, seja printado."
      ],
      "metadata": {
        "id": "7jhX3W60oMtV"
      }
    },
    {
      "cell_type": "code",
      "source": [
        "plt.ion()\n",
        "\n",
        "def display_graph(adjMatG):\n",
        "    print(\"Melhor matriz de adjacencia no passo atual:\")\n",
        "    print(adjMatG)\n",
        "\n",
        "    G = nx.convert_matrix.from_numpy_array(adjMatG)\n",
        "\n",
        "    plt.clf()\n",
        "    nx.draw_circular(G)\n",
        "\n",
        "    plt.axis('equal')\n",
        "    plt.draw()\n",
        "    plt.pause(0.001)\n",
        "    plt.show()"
      ],
      "metadata": {
        "id": "ocvHWUZ1oNRh"
      },
      "execution_count": 5,
      "outputs": []
    },
    {
      "cell_type": "markdown",
      "source": [
        "Nesse trecho do código, serão geradas saídas que representam as probabilidades de inserção de uma nova aresta, ou seja, aqui é onde joga-se o jogo. Inicialmente é fornecida uma entrada que constrói, de maneira parcial, a rede. É, também, nesse trecho de código que é definido se uma nova aresta é ou não inserida no grafo, dada uma probabilidade. Por exemplo, caso haja uma saída com valor de 0.4, a probabilidade de que uma nova aresta seja inserida, será de 0.4"
      ],
      "metadata": {
        "id": "F3Ti6c0_pLj7"
      }
    },
    {
      "cell_type": "code",
      "source": [
        "@njit\n",
        "def play_game(n_sessions, actions,state_next,states,prob, step, total_score):\n",
        "\n",
        "    for i in range(n_sessions):\n",
        "        if np.random.rand() < prob[i]:\n",
        "            action = 1\n",
        "        else:\n",
        "            action = 0\n",
        "        actions[i][step-1] = action\n",
        "        state_next[i] = states[i,:,step-1]\n",
        "\n",
        "        if (action > 0):\n",
        "            state_next[i][step-1] = action\n",
        "        state_next[i][MYN + step-1] = 0\n",
        "        if (step < MYN):\n",
        "            state_next[i][MYN + step] = 1\n",
        "        #É calculado o resultado final\n",
        "        terminal = step == MYN\n",
        "        if terminal:\n",
        "            total_score[i] = score_state(state_next[i])\n",
        "\n",
        "        # Grava-se as sessões\n",
        "        if not terminal:\n",
        "            states[i,:,step] = state_next[i]\n",
        "\n",
        "    return actions, state_next,states, total_score, terminal\n",
        "\n",
        "\n",
        "def generate_session(agent, n_sessions, verbose = 1):\n",
        "\n",
        "    states =  np.zeros([n_sessions, observation_space, len_game], dtype=int)\n",
        "    actions = np.zeros([n_sessions, len_game], dtype = int)\n",
        "    state_next = np.zeros([n_sessions,observation_space], dtype = int)\n",
        "    prob = np.zeros(n_sessions)\n",
        "    states[:,MYN,0] = 1\n",
        "    step = 0\n",
        "    total_score = np.zeros([n_sessions])\n",
        "    pred_time = 0\n",
        "    play_time = 0\n",
        "\n",
        "    while (True):\n",
        "        step += 1\n",
        "        tic = time.time()\n",
        "        prob = agent(torch.from_numpy(states[:,:,step-1]).to(torch.float))\n",
        "        prob = prob.detach().cpu().numpy()\n",
        "\n",
        "        pred_time += time.time()-tic\n",
        "        tic = time.time()\n",
        "        actions, state_next, states, total_score, terminal = play_game(\n",
        "                n_sessions, actions,state_next, states,prob, step, total_score)\n",
        "        play_time += time.time()-tic\n",
        "\n",
        "        if terminal:\n",
        "            break\n",
        "    if (verbose):\n",
        "        print(\"Tempo previsto: \"+str(pred_time)+\", Tempo jogado: \" + str(play_time))\n",
        "    return states, actions, total_score"
      ],
      "metadata": {
        "id": "zM3sJ8xWqo9O"
      },
      "execution_count": 6,
      "outputs": []
    },
    {
      "cell_type": "markdown",
      "source": [
        "Nesse trecho de código começa de fato o treino da IA. Existem seleções das elites, ou seja, os melhores pares de ação-estado, dentro de um percentual pré-determinado, são selecionados para a próxima interação. Lembrando que cada iteração produz 5000 sessões, ou seja, produz 5000 cadeias de palavras, onde cada uma deles é transformada em uma matriz de adjacência representando um grafo e recebe uma pontuação da função score."
      ],
      "metadata": {
        "id": "ZyfUje4qPFWh"
      }
    },
    {
      "cell_type": "code",
      "source": [
        "def select_elites(states_batch, actions_batch, rewards_batch, percentile=50):\n",
        "    \"\"\"\n",
        "    Os estados e as ações são selecionados de todos as iterações que tenham um valor de recompensa >= ao percentual definido no argumento da função. Nesse caso, percentile = 50.\n",
        "    O parâmetro states_batch é uma lista de listas de estados de uma dada sessão;\n",
        "    O parâmetro actions_batch é uma lista de listas de ações de uma dada sessão;\n",
        "    O parâmetro rewards_batch é uma lista de recompensas de uma dada sessão;\n",
        "    :returns: essa função retorna ambas as listas com os estados e suas respectivas ações, das sessões de elite.\n",
        "\n",
        "    \"\"\"\n",
        "    counter = n_sessions * (100.0 - percentile) / 100.0\n",
        "    reward_threshold = np.percentile(rewards_batch,percentile)\n",
        "\n",
        "    elite_states = []\n",
        "    elite_actions = []\n",
        "    elite_rewards = []\n",
        "    for i in range(len(states_batch)):\n",
        "        if rewards_batch[i] >= reward_threshold-0.0000001:\n",
        "            if (counter > 0) or (rewards_batch[i] >= reward_threshold+0.0000001):\n",
        "                for item in states_batch[i]:\n",
        "                    elite_states.append(item.tolist())\n",
        "                for item in actions_batch[i]:\n",
        "                    elite_actions.append(item)\n",
        "            counter -= 1\n",
        "    elite_states = np.array(elite_states, dtype = int)\n",
        "    elite_actions = np.array(elite_actions, dtype = int)\n",
        "    return elite_states, elite_actions"
      ],
      "metadata": {
        "id": "ot-E6jFEpQXN"
      },
      "execution_count": 7,
      "outputs": []
    },
    {
      "cell_type": "markdown",
      "source": [
        "A função select_super_sessions seleciona sessões que irão sobreviver para serem reutilizadas na próxima geração do jogo. Ela funciona de maneira muito similar à função definida acima, porém ao salvar uma construção interia, pode representar uma maior diversidade nas construções posteriores."
      ],
      "metadata": {
        "id": "a38m8bmEpzmp"
      }
    },
    {
      "cell_type": "code",
      "source": [
        "def select_super_sessions(states_batch, actions_batch, rewards_batch, percentile=90):\n",
        "\n",
        "    counter = n_sessions * (100.0 - percentile) / 100.0\n",
        "    reward_threshold = np.percentile(rewards_batch,percentile)\n",
        "\n",
        "    super_states = []\n",
        "    super_actions = []\n",
        "    super_rewards = []\n",
        "    for i in range(len(states_batch)):\n",
        "        if rewards_batch[i] >= reward_threshold-0.0000001:\n",
        "            if (counter > 0) or (rewards_batch[i] >= reward_threshold+0.0000001):\n",
        "                super_states.append(states_batch[i])\n",
        "                super_actions.append(actions_batch[i])\n",
        "                super_rewards.append(rewards_batch[i])\n",
        "                counter -= 1\n",
        "    super_states = np.array(super_states, dtype = int)\n",
        "    super_actions = np.array(super_actions, dtype = int)\n",
        "    super_rewards = np.array(super_rewards)\n",
        "    return super_states, super_actions, super_rewards\n"
      ],
      "metadata": {
        "id": "i8YPpbJIp0EO"
      },
      "execution_count": 8,
      "outputs": []
    },
    {
      "cell_type": "markdown",
      "source": [
        "Aqui é realizado o treino da rede com os grafos construídos nas gerações passadas e que foram selecionados para sobreviverem."
      ],
      "metadata": {
        "id": "ih-cbIUGqEQe"
      }
    },
    {
      "cell_type": "code",
      "source": [
        "def train_network(model, optimizer, train_loader,\n",
        "                  num_epochs=1, pbar_update_interval=200, print_logs=False):\n",
        "\n",
        "    criterion = nn.BCELoss()\n",
        "    pbar = trange(num_epochs) if print_logs else range(num_epochs)\n",
        "\n",
        "    for i in pbar:\n",
        "        for k, batch_data in enumerate(train_loader):\n",
        "            batch_x = batch_data[:, :-1]\n",
        "            batch_y = batch_data[:, -1]\n",
        "            model.zero_grad()\n",
        "            y_pred = model(batch_x)\n",
        "            loss = criterion(y_pred, batch_y.unsqueeze(1))\n",
        "            loss.backward()\n",
        "            optimizer.step()\n",
        "\n",
        "            if print_logs and k % pbar_update_interval == 0:\n",
        "                acc = (y_pred.round() == batch_y).sum().float()/(len(batch_y))\n",
        "                pbar.set_postfix(loss=loss.item(), acc=acc.item())"
      ],
      "metadata": {
        "id": "eb5PmiW0qE8f"
      },
      "execution_count": 9,
      "outputs": []
    },
    {
      "cell_type": "markdown",
      "source": [
        "Aqui está a Função Score. É ela quem sabe qual a regra do jogo, ou seja, essa é a definição da conjectura a ser trabalhada, dentro do código. Para o teste do maior número de aresta possíveis para N vértices, sem que haja a formação de triângulos em suas construções, a pontuação dada é simples: para cada aresta no grafo é dado um ponto e para cada triângulo encontrado é retirado um ponto. Dessa maneira a IA aprende que ela deve inserir arestas sem formar triângulos."
      ],
      "metadata": {
        "id": "dWOCQ9isqTJU"
      }
    },
    {
      "cell_type": "code",
      "source": [
        "@njit\n",
        "def score_graph(adjMatG, edgeListG, Gdeg):\n",
        "\n",
        "    N = Gdeg.size\n",
        "\n",
        "    edge_count = np.sum(Gdeg)/2\n",
        "    tri_count = 0\n",
        "\n",
        "    for i in range(N):\n",
        "      for j in range(i+1,N):\n",
        "        for k in range(j+1,N):\n",
        "          if adjMatG[i,j]==1 and adjMatG[i,k]==1 and adjMatG[j,k]==1:\n",
        "            tri_count += 1\n",
        "\n",
        "    return edge_count - tri_count"
      ],
      "metadata": {
        "id": "n8kcmBe8qTbo"
      },
      "execution_count": 10,
      "outputs": []
    },
    {
      "cell_type": "markdown",
      "source": [
        "Aqui está o main loop. Para um grafo que contenham 10 vértices, o maior valor possível de arestas é 25. O input inicial, ou seja, as entradas primeira matriz de adjacências, é dado de maneira aleatória com valores de 0 e 1."
      ],
      "metadata": {
        "id": "fFbSWyxMqaUm"
      }
    },
    {
      "cell_type": "code",
      "source": [
        "super_states =  np.empty((0,len_game,observation_space), dtype = int)\n",
        "super_actions = np.array([], dtype = int)\n",
        "super_rewards = np.array([])\n",
        "\n",
        "for i in range(1000000): #Numero de gerações a serem criadas. Lembrando que cada geração 5000 sessões.\n",
        "\n",
        "    sessions = generate_session(model,n_sessions,1)\n",
        "\n",
        "    states_batch = np.array(sessions[0], dtype = int)\n",
        "    actions_batch = np.array(sessions[1], dtype = int)\n",
        "    rewards_batch = np.array(sessions[2])\n",
        "    states_batch = np.transpose(states_batch,axes=[0,2,1])\n",
        "\n",
        "    states_batch = np.append(states_batch,super_states,axis=0)\n",
        "\n",
        "    if i>0:\n",
        "        actions_batch = np.append(actions_batch,np.array(super_actions),axis=0)\n",
        "    rewards_batch = np.append(rewards_batch,super_rewards)\n",
        "\n",
        "\n",
        "    elite_states, elite_actions = select_elites(states_batch, actions_batch, rewards_batch, percentile=percentile) #Aqui é feita a escolha de quais sessões serão utilizadas para ensinar a IA.\n",
        "\n",
        "    super_sessions = select_super_sessions(states_batch, actions_batch, rewards_batch, percentile=super_percentile) #Aqui são escolhidas quais sessões irão sobreviver.\n",
        "\n",
        "    super_sessions = [(super_sessions[0][i], super_sessions[1][i], super_sessions[2][i]) for i in range(len(super_sessions[2]))]\n",
        "    super_sessions.sort(key=lambda super_sessions: super_sessions[2],reverse=True)\n",
        "\n",
        "\n",
        "    train_data = torch.from_numpy(np.column_stack((elite_states, elite_actions)))\n",
        "    train_data = train_data.to(torch.float)\n",
        "    train_loader = torch.utils.data.DataLoader(train_data, shuffle=True, batch_size=32)\n",
        "    train_network(model, optimizer, train_loader)\n",
        "\n",
        "\n",
        "    super_states = [super_sessions[i][0] for i in range(len(super_sessions))]\n",
        "    super_actions = [super_sessions[i][1] for i in range(len(super_sessions))]\n",
        "    super_rewards = [super_sessions[i][2] for i in range(len(super_sessions))]\n",
        "\n",
        "    rewards_batch.sort()\n",
        "    mean_all_reward = np.mean(rewards_batch[-100:])\n",
        "    mean_best_reward = np.mean(super_rewards)\n",
        "\n",
        "\n",
        "    print(\"\\n\" + str(i) +  \". Os melhores individuos: \" + str(np.flip(np.sort(super_rewards))[:10]))\n",
        "\n",
        "    display_graph(state_to_graph(super_actions[0])[0])\n"
      ],
      "metadata": {
        "id": "YF7Q5WdMqasi"
      },
      "execution_count": null,
      "outputs": []
    }
  ]
}